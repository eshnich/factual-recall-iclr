{
 "cells": [
  {
   "cell_type": "code",
   "execution_count": null,
   "metadata": {},
   "outputs": [
    {
     "name": "stderr",
     "output_type": "stream",
     "text": [
      "/mnt/sw/nix/store/71ksmx7k6xy3v9ksfkv5mp5kxxp64pd6-python-3.10.13-view/lib/python3.10/site-packages/numpy/core/getlimits.py:549: UserWarning: The value of the smallest subnormal for <class 'numpy.float64'> type is zero.\n",
      "  setattr(self, word, getattr(machar, word).flat[0])\n",
      "/mnt/sw/nix/store/71ksmx7k6xy3v9ksfkv5mp5kxxp64pd6-python-3.10.13-view/lib/python3.10/site-packages/numpy/core/getlimits.py:89: UserWarning: The value of the smallest subnormal for <class 'numpy.float64'> type is zero.\n",
      "  return self._float_to_str(self.smallest_subnormal)\n",
      "/mnt/sw/nix/store/71ksmx7k6xy3v9ksfkv5mp5kxxp64pd6-python-3.10.13-view/lib/python3.10/site-packages/numpy/core/getlimits.py:549: UserWarning: The value of the smallest subnormal for <class 'numpy.float32'> type is zero.\n",
      "  setattr(self, word, getattr(machar, word).flat[0])\n",
      "/mnt/sw/nix/store/71ksmx7k6xy3v9ksfkv5mp5kxxp64pd6-python-3.10.13-view/lib/python3.10/site-packages/numpy/core/getlimits.py:89: UserWarning: The value of the smallest subnormal for <class 'numpy.float32'> type is zero.\n",
      "  return self._float_to_str(self.smallest_subnormal)\n"
     ]
    }
   ],
   "source": [
    "from jax import numpy as jnp\n",
    "from util import *\n",
    "import pickle\n",
    "from matplotlib import pyplot as plt"
   ]
  },
  {
   "cell_type": "code",
   "execution_count": null,
   "metadata": {},
   "outputs": [],
   "source": [
    "plt.style.use('style.mplstyle')\n",
    "cmap = plt.get_cmap('hsv')\n",
    "fig, ax = plt.subplots(figsize = (5, 4))\n",
    "alphas = [1, 2, 4, 8]\n",
    "i = 0\n",
    "for alpha in alphas:\n",
    "    res = []\n",
    "    for seed in [0, 1, 11, 111, 42]:\n",
    "        filename = 'mlp_sweep_alpha={}_seed={}.pkl'.format(alpha, seed)\n",
    "        with open(filename, \"rb\") as input_file:\n",
    "            results = pickle.load(input_file)\n",
    "        params = [r[0] for r in results]\n",
    "        res.append([r[1] for r in results])\n",
    "    print(res)\n",
    "    # print(params)\n",
    "    res = np.array(res)    \n",
    "    plt.scatter(params, res.mean(axis=0), color = cmap(i/len(alphas)), marker = 'o', label = 'm/d = {}'.format(alpha))\n",
    "    plt.fill_between(params, np.min(res, axis=0), np.max(res, axis=0), color = cmap(i/len(alphas)), alpha = 0.5)\n",
    "    i += 1\n",
    "N_ends = [50, 19426]\n",
    "C = 0.35\n",
    "plt.plot([C*N_ends[0]*jnp.log(N_ends[0]), C*N_ends[1]*jnp.log(N_ends[1])], N_ends, linestyle = 'dashed', color = 'gray', label=r'$N\\log N \\propto md$')\n",
    "plt.plot()\n",
    "plt.xscale(\"log\")\n",
    "plt.yscale(\"log\")\n",
    "plt.ylabel(r'$N$')\n",
    "plt.xlabel(r'$md$')\n",
    "plt.title(\"MLP Associative Memory\")\n",
    "plt.legend(loc=\"upper left\")\n",
    "plt.savefig(\"mlp_AM_rescale.pdf\", bbox_inches='tight')\n",
    "plt.show()"
   ]
  },
  {
   "cell_type": "code",
   "execution_count": null,
   "metadata": {},
   "outputs": [],
   "source": [
    "plt.style.use('style.mplstyle')\n",
    "cmap = plt.get_cmap('hsv')\n",
    "fig, ax = plt.subplots(figsize = (5, 4))\n",
    "alphas = [1, 2, 4, 8]\n",
    "i = 0\n",
    "for alpha in alphas:\n",
    "    res = []\n",
    "    for seed in [0, 1, 11, 111, 42]:\n",
    "        filename = 'mlp_sweep_alpha={}_M=32_seed={}.pkl'.format(alpha, seed)\n",
    "        with open(filename, \"rb\") as input_file:\n",
    "            results = pickle.load(input_file)\n",
    "        params = [r[0] for r in results]\n",
    "        res.append([r[1] for r in results])\n",
    "\n",
    "    res = np.array(res)    \n",
    "    plt.scatter(params, res.mean(axis=0), color = cmap(i/len(alphas)), marker = 'o', label = 'm/d = {}'.format(alpha))\n",
    "    plt.fill_between(params, np.min(res, axis=0), np.max(res, axis=0), color = cmap(i/len(alphas)), alpha = 0.5)\n",
    "    i += 1\n",
    "N_ends = [50, 50000]\n",
    "C = 1.2\n",
    "plt.plot([C*N_ends[0], C*N_ends[1]], N_ends, linestyle = 'dashed', color = 'gray', label=r'$N \\propto md$')\n",
    "plt.plot()\n",
    "plt.xscale(\"log\")\n",
    "plt.yscale(\"log\")\n",
    "plt.ylabel(r'$N$')\n",
    "plt.xlabel(r'$md$')\n",
    "plt.title(\"MLP Associative Memory\")\n",
    "plt.legend(loc=\"upper left\")\n",
    "plt.savefig(\"mlp_AM_fix_M.pdf\", bbox_inches='tight')\n",
    "plt.show()"
   ]
  }
 ],
 "metadata": {
  "kernelspec": {
   "display_name": "jaxenv2",
   "language": "python",
   "name": "python3"
  },
  "language_info": {
   "codemirror_mode": {
    "name": "ipython",
    "version": 3
   },
   "file_extension": ".py",
   "mimetype": "text/x-python",
   "name": "python",
   "nbconvert_exporter": "python",
   "pygments_lexer": "ipython3",
   "version": "3.10.13"
  }
 },
 "nbformat": 4,
 "nbformat_minor": 2
}

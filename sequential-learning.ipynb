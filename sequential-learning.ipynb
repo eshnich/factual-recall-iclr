{
 "cells": [
  {
   "cell_type": "code",
   "execution_count": 8,
   "metadata": {},
   "outputs": [
    {
     "name": "stdout",
     "output_type": "stream",
     "text": [
      "env: CUDA_VISIBLE_DEVICES=7\n"
     ]
    }
   ],
   "source": [
    "%env CUDA_VISIBLE_DEVICES=7\n",
    "import jax\n",
    "from jax import jit, lax\n",
    "from jax import numpy as jnp\n",
    "from jax import random as jr\n",
    "from jax import vmap\n",
    "from jax.numpy import linalg as jla\n",
    "from util import *\n",
    "from simple_pytree import Pytree, static_field\n",
    "import optax\n",
    "from matplotlib import pyplot as plt"
   ]
  },
  {
   "cell_type": "code",
   "execution_count": 2,
   "metadata": {},
   "outputs": [],
   "source": [
    "class FactRecall:\n",
    "    def __init__(self, n_subject, n_relation, n_answer, n_noise, fact_dict, T, alpha = 0., EOS_token = False):\n",
    "        self.n_subject = n_subject \n",
    "        self.n_relation = n_relation\n",
    "        self.n_answer = n_answer\n",
    "        self.n_noise = n_noise\n",
    "        self.T = T\n",
    "        self.dict = fact_dict\n",
    "        p = 1./jnp.arange(1, n_subject + 1)**alpha\n",
    "        self.p = p/p.sum()\n",
    "        print(self.p)\n",
    "        self.EOS = EOS_token\n",
    "        \n",
    "    def sample(self, key):\n",
    "        skey, lkey, rkey, lrkey, nkey = jr.split(key, 5)\n",
    "        subject = jr.choice(skey, self.n_subject, p=self.p)\n",
    "        location = jr.choice(lkey, self.T-1)\n",
    "        relation = jr.choice(rkey, self.n_relation)\n",
    "        r_location = jr.choice(lrkey, self.T-2)\n",
    "        r_location = r_location + (r_location >=location)\n",
    "        x = jr.choice(nkey, jnp.arange(self.n_subject + self.n_relation, \n",
    "                                           self.n_subject + self.n_relation + self.n_noise), (self.T,))\n",
    "        x = x.at[location].set(subject)\n",
    "        if self.EOS:\n",
    "            x = x.at[r_location].set(relation + self.n_subject)\n",
    "            x = x.at[self.T-1].set(self.n_subject + self.n_relation + self.n_noise)\n",
    "        else:\n",
    "            x = x.at[self.T-1].set(relation + self.n_subject)\n",
    "        \n",
    "        answer = self.dict[subject, relation]\n",
    "        \n",
    "        return x, answer"
   ]
  },
  {
   "cell_type": "code",
   "execution_count": 3,
   "metadata": {},
   "outputs": [
    {
     "name": "stdout",
     "output_type": "stream",
     "text": [
      "[[ 0  8 16 24]\n",
      " [ 0  8 16 24]\n",
      " [ 1  9 17 25]\n",
      " [ 1  9 17 25]\n",
      " [ 2 10 18 26]\n",
      " [ 2 10 18 26]\n",
      " [ 3 11 19 27]\n",
      " [ 3 11 19 27]\n",
      " [ 4 12 20 28]\n",
      " [ 4 12 20 28]\n",
      " [ 5 13 21 29]\n",
      " [ 5 13 21 29]\n",
      " [ 6 14 22 30]\n",
      " [ 6 14 22 30]\n",
      " [ 7 15 23 31]\n",
      " [ 7 15 23 31]]\n",
      "[0.0625 0.0625 0.0625 0.0625 0.0625 0.0625 0.0625 0.0625 0.0625 0.0625\n",
      " 0.0625 0.0625 0.0625 0.0625 0.0625 0.0625]\n"
     ]
    }
   ],
   "source": [
    "rng = RNG(64)\n",
    "n_subject = 16\n",
    "n_relation = 4\n",
    "n_answer_per = 8\n",
    "n_answer = n_answer_per*n_relation\n",
    "D = n_answer_per\n",
    "n_noise = 20\n",
    "vocab_size = n_subject + n_relation + n_noise+1\n",
    "T = 32\n",
    "# random fact dict\n",
    "fact_dict = jnp.array([jr.choice(rng.next(), jnp.arange(n_answer_per*i, n_answer_per*(i+1)), (n_subject,)) for i in range(n_relation)]).T\n",
    "\n",
    "# structured:\n",
    "fact_dict = jnp.array([[int(j*n_answer_per/n_subject) + i*n_answer_per for j in jnp.arange(0, n_subject)] for i in range(n_relation)]).T\n",
    "\n",
    "print(fact_dict)\n",
    "problem = FactRecall(n_subject, n_relation, n_answer, n_noise, fact_dict,T,alpha=0., EOS_token=True)"
   ]
  },
  {
   "cell_type": "code",
   "execution_count": null,
   "metadata": {},
   "outputs": [],
   "source": [
    "## TODO: update this code to use flax.linen and not the pytree stuff, may not work with wte=static_field()\n",
    "class Simple_TF(Pytree):\n",
    "    vocab_size: int = static_field()\n",
    "    d: int = static_field()\n",
    "    embed_orth: bool = static_field()\n",
    "    wte = static_field()\n",
    "\n",
    "    def attn(self, x, A):\n",
    "        T = x.shape[-2]\n",
    "        attn = jnp.einsum(\"...ij,jk,...lk -> ...il\", x, A, x)\n",
    "        attn = jnp.where(jnp.tri(T), attn, -jnp.inf)\n",
    "        attn = nn.softmax(attn)\n",
    "        attn = jnp.einsum(\"...ij,...jk->...ik\", attn, x)\n",
    "        return attn\n",
    "    \n",
    "    def lin_attn(self, x, A):\n",
    "        T = x.shape[-2]\n",
    "        attn = jnp.einsum(\"...ij,jk,...lk -> ...il\", x, A, x)\n",
    "        attn = jnp.einsum(\"...ij,...jk->...ik\", attn, x)\n",
    "        return attn\n",
    "    \n",
    "    def embed(self, x):\n",
    "        wte = self.wte[x]\n",
    "        return wte\n",
    "\n",
    "    def __init__(\n",
    "        self,\n",
    "        seq_len,\n",
    "        vocab_size,\n",
    "        output_size,\n",
    "        d,\n",
    "        embed_orth,\n",
    "        key\n",
    "        \n",
    "    ):\n",
    "        self.vocab_size = vocab_size\n",
    "        self.d = d\n",
    "        self.embed_orth = embed_orth\n",
    "        \n",
    "        self.wte = jnp.eye(self.vocab_size)\n",
    "        if self.embed_orth == False:\n",
    "            self.wte = jr.normal(key, (self.vocab_size, d))\n",
    "            self.wte = jnp.diag(1/jnp.linalg.norm(self.wte, axis=1))@ self.wte\n",
    "        \n",
    "        self.A = 1e-5*jnp.ones([1, self.d, self.d]) #jnp.zeros([1, d, d])\n",
    "        self.V = 1e-5*jnp.ones([self.d, output_size]) #jnp.zeros([d, output_size])\n",
    "\n",
    "    def __call__(self, x):\n",
    "        x = self.embed(x)\n",
    "        \n",
    "        # linear attention versus softmax attention\n",
    "        attn = jax.vmap(self.lin_attn, (None, 0), -2)(x, self.A)\n",
    "        # attn = jax.vmap(self.attn, (None, 0), -2)(x, self.A)\n",
    "        \n",
    "        attn = attn.reshape(*attn.shape[:-2], -1)\n",
    "        attn = attn@self.V\n",
    "        x = attn[..., -1, :]\n",
    "        return nn.softmax(x)"
   ]
  },
  {
   "cell_type": "code",
   "execution_count": null,
   "metadata": {},
   "outputs": [],
   "source": [
    "embed_orth = True # determines whether we use orthogonal or random embeddings\n",
    "d = vocab_size # needed for one-hot embeddings\n",
    "\n",
    "init_model = Simple_TF(T, vocab_size, n_answer, d, True, rng.next())\n",
    "\n",
    "criterion = lambda f, y: -jnp.log(f[y])\n",
    "\n",
    "@jit\n",
    "def loss_fn(model, batch):\n",
    "    x, y = batch\n",
    "    return vmap(criterion)(model(x), y).mean()"
   ]
  },
  {
   "cell_type": "code",
   "execution_count": 6,
   "metadata": {},
   "outputs": [],
   "source": [
    "def rel_accuracy(model, batch):\n",
    "    x, y = batch\n",
    "    return vmap(lambda fi, yi: jnp.floor(jnp.argmax(fi)/D) == jnp.floor(yi/D))(model(x), y).mean()\n",
    "\n",
    "def rel_loss(model, batch):\n",
    "    x, y = batch\n",
    "    f = model(x)\n",
    "    probs = vmap(lambda fi, yi : jnp.sum(fi * (jnp.floor(jnp.arange(0, n_answer)/D) == jnp.floor(yi/D)).astype(int)))(f, y)\n",
    "    return -jnp.log(probs).mean()\n",
    "\n",
    "def sub_accuracy(model, batch):\n",
    "    x, y = batch\n",
    "    return vmap(lambda fi, yi: (jnp.argmax(fi) % D) == (yi % D))(model(x), y).mean()\n",
    "\n",
    "def sub_loss(model, batch):\n",
    "    x, y = batch\n",
    "    f = model(x)\n",
    "    probs = vmap(lambda fi, yi : jnp.sum(fi * ((jnp.arange(0, n_answer) % D) == (yi % D)).astype(int)))(f, y)\n",
    "    return -jnp.log(probs).mean()\n",
    "\n",
    "@jit\n",
    "def accuracy(model, batch):\n",
    "    x, y = batch\n",
    "    return vmap(lambda fi, yi: jnp.argmax(fi) == yi)(model(x), y).mean()"
   ]
  },
  {
   "cell_type": "code",
   "execution_count": 7,
   "metadata": {},
   "outputs": [
    {
     "name": "stdout",
     "output_type": "stream",
     "text": [
      "Training\n"
     ]
    },
    {
     "data": {
      "application/vnd.jupyter.widget-view+json": {
       "model_id": "b48cefe957c14534a3db8974aad0fee1",
       "version_major": 2,
       "version_minor": 0
      },
      "text/plain": [
       "  0%|          | 0/8192 [00:00<?, ?it/s]"
      ]
     },
     "metadata": {},
     "output_type": "display_data"
    }
   ],
   "source": [
    "## Training Loop\n",
    "\n",
    "testx, testy = vmap(problem.sample)(rng.next(2**16))\n",
    "\n",
    "print(\"Training\")\n",
    "lr = 0.1\n",
    "wd = 0.\n",
    "steps = 2**13\n",
    "save_every = steps // 128\n",
    "batch_size = 2**10\n",
    "max_size = 2**20 # 2**24\n",
    "epoch_len = max_size // batch_size\n",
    "sample_fn = jit(lambda k: vmap(problem.sample)(jr.split(k, epoch_len * batch_size)))\n",
    "\n",
    "\n",
    "def batch_iterator(key):\n",
    "    while True:\n",
    "        key, subkey = jr.split(key)\n",
    "        batches = sample_fn(subkey)\n",
    "        for i in range(epoch_len):\n",
    "            yield tree_map(lambda x: x[batch_size * i : batch_size * (i + 1)], batches)\n",
    "\n",
    "@jit\n",
    "def step_fn(model, batch, lr, wd):\n",
    "    loss, g = jax.value_and_grad(loss_fn)(model, batch)\n",
    "    g = tree_add_scalar_mul(g, wd, model)\n",
    "    model = tree_add_scalar_mul(model, -lr, g)\n",
    "    return model, loss\n",
    "\n",
    "\n",
    "iterator = batch_iterator(rng.next())\n",
    "model = init_model\n",
    "train_loss = []\n",
    "test_loss = []\n",
    "schedule = optax.cosine_decay_schedule(lr, steps)\n",
    "\n",
    "# opt_state = opt.init(model)\n",
    "As = []\n",
    "Vs = []\n",
    "rel_accs = []\n",
    "sub_accs = []\n",
    "accs = []\n",
    "rel_losses = []\n",
    "sub_losses = []\n",
    "for i in trange(steps):\n",
    "    if i % save_every == 0:\n",
    "        test_loss.append(loss_fn(model, (testx, testy)))\n",
    "        rel_accs.append(rel_accuracy(model, (testx, testy)))\n",
    "        rel_losses.append(rel_loss(model, (testx, testy)))\n",
    "        sub_accs.append(sub_accuracy(model, (testx, testy)))\n",
    "        sub_losses.append(sub_loss(model, (testx, testy)))\n",
    "        accs.append(accuracy(model, (testx, testy)))\n",
    "        As.append(model.A[0])\n",
    "        Vs.append(model.V)\n",
    "    model, loss = step_fn(model, next(iterator), lr=lr, wd=wd)\n",
    "    train_loss.append(loss)"
   ]
  },
  {
   "cell_type": "code",
   "execution_count": 9,
   "metadata": {},
   "outputs": [
    {
     "name": "stderr",
     "output_type": "stream",
     "text": [
      "findfont: Font family ['serif'] not found. Falling back to DejaVu Sans.\n",
      "findfont: Generic family 'serif' not found because none of the following families were found: Times, Palatino, New Century Schoolbook, Bookman, Computer Modern Roman\n"
     ]
    },
    {
     "data": {
      "image/png": "[encoded data removed]",
      "text/plain": [
       "<Figure size 504x360 with 1 Axes>"
      ]
     },
     "metadata": {
      "needs_background": "light"
     },
     "output_type": "display_data"
    }
   ],
   "source": [
    "%matplotlib inline\n",
    "plt.style.use('style.mplstyle')\n",
    "\n",
    "fig, ax = plt.subplots(figsize = (7, 5))\n",
    "\n",
    "plt.plot([0, steps], [np.log(32), np.log(32)], linestyle = 'dashed', color = 'gray')\n",
    "plt.plot([0, steps], [np.log(8), np.log(8)], linestyle = 'dashed', color = 'gray')\n",
    "plt.plot([save_every*i for i in range(len(test_loss))], rel_losses, color = 'r', label = 'Relation-only')\n",
    "plt.plot([save_every*i for i in range(len(test_loss))], sub_losses, color = 'b', label = 'Subject-only')\n",
    "plt.plot([save_every*i for i in range(len(test_loss))], test_loss, color = 'purple', label = 'Total')\n",
    "\n",
    "plt.ylabel(\"Cross Entropy Loss\")\n",
    "plt.xlabel(\"Steps of GD\")\n",
    "plt.legend(loc = 'right')\n",
    "\n",
    "# plt.vlines(1800, 0.0, np.log(32), linestyle = 'dashed', color = 'gray')\n",
    "plt.axvspan(0, 1800, facecolor='y', alpha=0.2, zorder = -100)\n",
    "plt.axvspan(1800, 5000, facecolor='red', alpha=0.2, zorder = -100)\n",
    "plt.axvspan(5000, 8192, facecolor='purple', alpha=0.2, zorder = -100)\n",
    "\n",
    "text_y = 2.7\n",
    "\n",
    "plt.text(100, text_y, 'Stage 1:\\nInit', color = 'k', multialignment='center')\n",
    "plt.text(2200, text_y, 'Stage 2:\\nHallucination', color = 'k', multialignment='center')\n",
    "plt.text(5400, text_y, 'Stage 3:\\nConvergence', color = 'k', multialignment='center')\n",
    "\n",
    "plt.savefig(\"sequential_linear.pdf\", bbox_inches='tight')\n",
    "plt.show()"
   ]
  }
 ],
 "metadata": {
  "kernelspec": {
   "display_name": "jax",
   "language": "python",
   "name": "python3"
  },
  "language_info": {
   "codemirror_mode": {
    "name": "ipython",
    "version": 3
   },
   "file_extension": ".py",
   "mimetype": "text/x-python",
   "name": "python",
   "nbconvert_exporter": "python",
   "pygments_lexer": "ipython3",
   "version": "3.8.13"
  }
 },
 "nbformat": 4,
 "nbformat_minor": 2
}

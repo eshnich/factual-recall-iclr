{
 "cells": [
  {
   "cell_type": "code",
   "execution_count": 1,
   "metadata": {},
   "outputs": [],
   "source": [
    "import pickle\n",
    "import matplotlib.pyplot as plt\n",
    "import matplotlib as mpl\n",
    "import numpy as np"
   ]
  },
  {
   "cell_type": "markdown",
   "metadata": {},
   "source": [
    "## Plotting code for large sweep"
   ]
  },
  {
   "cell_type": "code",
   "execution_count": null,
   "metadata": {},
   "outputs": [],
   "source": [
    "plt.style.use('style.mplstyle')\n",
    "H = 8\n",
    "D = 8\n",
    "cmap = plt.get_cmap('hsv')\n",
    "vals = [4., 2., 1., 0.5, 0.25]\n",
    "param_list = []\n",
    "for u in vals:\n",
    "    for v in vals:\n",
    "        param_list.append((u, v, H, D))\n",
    "plt.style.use('style.mplstyle')\n",
    "fig, ax = plt.subplots(figsize = (8, 7))\n",
    "i = 0\n",
    "for param in param_list:\n",
    "    filename = 'sweep_alpha={}_beta={}_H={}_D={}.pkl'.format(param[0], param[1], param[2], param[3])\n",
    "    # filename = 'sweep_alpha={}_beta={}_H={}_D=S.pkl'.format(param[0], param[1], param[2])\n",
    "    # filename = 'sweep_alpha={}_beta={}_H={}_D={}_large_S.pkl'.format(param[0], param[1], param[2], param[3])\n",
    "    try:\n",
    "        with open(filename, \"rb\") as input_file:\n",
    "            results = pickle.load(input_file)\n",
    "        j = min([i for i in range(len(results)) if results[i][1] > 64])\n",
    "        max_res = [i for i in range(len(results)) if results[i][1] >11000]#== 16129]\n",
    "        k = min(max_res) if len(max_res) > 0 else len(results)\n",
    "        plt.plot([r[0] for r in results[j:k]], [r[1] for r in results[j:k]], marker = 'o', color = cmap(i/25), label='alpha={}, beta={}'.format(param[0], param[1]))\n",
    "        i += 1\n",
    "    except:\n",
    "        i += 1\n",
    "        continue\n",
    "    \n",
    "c0 = 0.15\n",
    "plt.plot([8e2, 1e5], [c0*8e2, c0*1e5], linestyle = 'dashed', color = 'k', label=r'Facts $\\propto$ Params')\n",
    "c1 = 0.03\n",
    "plt.yscale(\"log\")\n",
    "plt.xscale(\"log\")\n",
    "plt.xlabel(r\"Number of Parameters\")\n",
    "plt.ylabel(r\"Number of Facts Stored\")\n",
    "plt.title(r\"H = {}, D = {}, S = $R$\".format(H, D))\n",
    "plt.ylim(ymin=50)\n",
    "plt.legend(bbox_to_anchor=(1.04, 1), loc=\"upper left\", fontsize = 12)\n",
    "plt.savefig(\"scaling_H_16_large_S.pdf\", bbox_inches='tight')\n",
    "plt.show()"
   ]
  },
  {
   "cell_type": "markdown",
   "metadata": {},
   "source": [
    "## H vs m tradeoff"
   ]
  },
  {
   "cell_type": "code",
   "execution_count": null,
   "metadata": {},
   "outputs": [],
   "source": [
    "with open('all_results.pkl', \"rb\") as input_file:\n",
    "    results_dict = pickle.load(input_file)"
   ]
  },
  {
   "cell_type": "code",
   "execution_count": 10,
   "metadata": {},
   "outputs": [
    {
     "name": "stdout",
     "output_type": "stream",
     "text": [
      "[ 1  2  4  6  8 10 12 14 16 20 24 28 32]\n",
      "[  1   8  16  24  32  40  48  56  64  80  96 112 128]\n"
     ]
    }
   ],
   "source": [
    "Hs = set()\n",
    "ms = set()\n",
    "for key in results_dict.keys():\n",
    "    d, H, dh, m = key\n",
    "    Hs.add(H)\n",
    "    ms.add(m)\n",
    "Hs = np.array(list(Hs))\n",
    "Hs.sort()\n",
    "ms = np.array(list(ms))\n",
    "ms.sort()\n",
    "print(Hs)\n",
    "print(ms)"
   ]
  },
  {
   "cell_type": "code",
   "execution_count": 11,
   "metadata": {},
   "outputs": [],
   "source": [
    "H_vs_m_results = [[0. for m in ms] for H in Hs]\n",
    "for i in range(len(Hs)):\n",
    "    for j in range(len(ms)):\n",
    "        H = Hs[i]\n",
    "        m = ms[j]\n",
    "        H_vs_m_results[i][j] = results_dict[(d, H, dh, m)] if (d, H, dh, m) in results_dict else np.nan"
   ]
  },
  {
   "cell_type": "code",
   "execution_count": 12,
   "metadata": {},
   "outputs": [
    {
     "data": {
      "image/png": "[encoded data removed]",
      "text/plain": [
       "<Figure size 504x432 with 2 Axes>"
      ]
     },
     "metadata": {
      "needs_background": "light"
     },
     "output_type": "display_data"
    }
   ],
   "source": [
    "fig, ax = plt.subplots(figsize = (7, 6))\n",
    "attn_params = d*dh*Hs\n",
    "c = ax.pcolormesh(attn_params, d*ms, np.array(H_vs_m_results).T, cmap='viridis', vmin=0, vmax=1)\n",
    "fig.colorbar(c, ax=ax)\n",
    "plt.xlabel(r\"Attention parameters\")\n",
    "plt.ylabel(r\"MLP params\")\n",
    "plt.plot(range(1280, 4700), [2300 - a/2 for a in range(1280, 4700)], c = 'r')\n",
    "plt.plot(range(1280, 4700), [2300 - a/2 for a in range(1280, 4700)], c = 'r')\n",
    "plt.plot([1280, 1280], [1660, 4300], c = 'r', linestyle = 'solid')\n",
    "\n",
    "plt.savefig(\"H_vs_m_standard.png\", bbox_inches=\"tight\")\n"
   ]
  }
 ],
 "metadata": {
  "kernelspec": {
   "display_name": "jax",
   "language": "python",
   "name": "python3"
  },
  "language_info": {
   "codemirror_mode": {
    "name": "ipython",
    "version": 3
   },
   "file_extension": ".py",
   "mimetype": "text/x-python",
   "name": "python",
   "nbconvert_exporter": "python",
   "pygments_lexer": "ipython3",
   "version": "3.8.13"
  }
 },
 "nbformat": 4,
 "nbformat_minor": 4
}
